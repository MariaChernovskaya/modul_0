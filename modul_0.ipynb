{
 "cells": [
  {
   "cell_type": "code",
   "execution_count": 3,
   "metadata": {},
   "outputs": [],
   "source": [
import numpy as np
number = np.random.randint(1,101)    # Загадали число
print ('Загадано число от 1 до 100')
count = 0
start, finish = 1, 101
while True:
    count += 1
    chance = (start+finish) // 2 #Ввели переменную для расчета вероятного числа
    if number > chance:
        start = chance+1
    elif number < chance:
        finish = chance-1
    else:
        break   # Закончить цикл, если число угадано
print (f'Вы угадали число {number} за {count} попыток.')
    "    
   ]
  }
 ],
 "metadata": {
  "kernelspec": {
   "display_name": "Python 3",
   "language": "python",
   "name": "python3"
  },
  "language_info": {
   "codemirror_mode": {
    "name": "ipython",
    "version": 3
   },
   "file_extension": ".py",
   "mimetype": "text/x-python",
   "name": "python",
   "nbconvert_exporter": "python",
   "pygments_lexer": "ipython3",
   "version": "3.8.3"
  }
 },
 "nbformat": 4,
 "nbformat_minor": 4
}

{
 "cells": [
  {
   "cell_type": "code",
   "execution_count": 1,
   "metadata": {},
   "outputs": [
    {
     "name": "stdout",
     "output_type": "stream",
     "text": [
      "Загадано число от 1 до 100\n",
      "Вы угадали число 33 за 7 попыток.\n"
     ]
    }
   ],
   "source": [
    "import numpy as np\n",
    "number = np.random.randint(1,101)    # Загадали число\n",
    "print ('Загадано число от 1 до 100')\n",
    "count = 0\n",
    "start, finish = 1, 101\n",
    "while True:\n",
    "    count += 1\n",
    "    chance = (start+finish) // 2    # Ввели переменную для расчета вероятного числа\n",
    "    if number > chance:\n",
    "        start = chance+1\n",
    "    elif number < chance:\n",
    "        finish = chance-1\n",
    "    else:\n",
    "        break    # Закончить цикл, если число угадано\n",
    "print (f'Вы угадали число {number} за {count} попыток.')"
   ]
  }
 ],
 "metadata": {
  "kernelspec": {
   "display_name": "Python 3",
   "language": "python",
   "name": "python3"
  },
  "language_info": {
   "codemirror_mode": {
    "name": "ipython",
    "version": 3
   },
   "file_extension": ".py",
   "mimetype": "text/x-python",
   "name": "python",
   "nbconvert_exporter": "python",
   "pygments_lexer": "ipython3",
   "version": "3.8.3"
  }
 },
 "nbformat": 4,
 "nbformat_minor": 4
}

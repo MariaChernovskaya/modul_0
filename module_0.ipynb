import numpy as np
number = np.random.randint(1,101)    # Загадали число
print ('Загадано число от 1 до 100')
count = 0
start, finish = 1, 101
while True:
    count += 1
    chance = (start+finish) // 2    # Ввели переменную для расчета вероятного числа
    if number > chance:
        start = chance+1
    elif number < chance:
        finish = chance-1
    else:
        break    # Закончить цикл, если число угадано
print (f'Вы угадали число {number} за {count} попыток.')
